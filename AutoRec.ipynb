{
 "cells": [
  {
   "cell_type": "code",
   "execution_count": 1,
   "metadata": {
    "collapsed": true
   },
   "outputs": [],
   "source": [
    "import numpy as np\n",
    "import pandas as pd\n",
    "from matplotlib import pyplot as plt\n",
    "import torch\n",
    "from torch.utils.data import Dataset, DataLoader\n",
    "from torch import nn\n",
    "from torchvision.transforms import Lambda\n",
    "from tqdm import tqdm\n",
    "import time"
   ]
  },
  {
   "cell_type": "code",
   "execution_count": 2,
   "outputs": [],
   "source": [
    "class AutoRec(nn.Module):\n",
    "    def __init__(self, num_hidden, num_users, dropout=0.05,mode = 'train'):\n",
    "        super(AutoRec, self).__init__()\n",
    "        self.encoder = nn.Sequential(\n",
    "            nn.Linear(num_users,num_hidden),\n",
    "            nn.Sigmoid()\n",
    "        )\n",
    "        self.decoder = nn.Linear(num_hidden,num_users)\n",
    "        self.dropout = nn.Dropout(dropout)\n",
    "        self.mode = mode\n",
    "\n",
    "    def forward(self, X):\n",
    "        hidden = self.dropout(self.encoder(X)) #(b,num_users) ->(b,num_hidden)\n",
    "        y = self.decoder(hidden) #(b,num_hidden) ->(b,num_users)\n",
    "        if self.mode=='train':  # Mask the gradient during training\n",
    "            return y * torch.sign(X) # -1 if x < 0, 0 if x==0, 1 if x > 0. X中未标注的数据为0，用来屏蔽未标注的输入的梯度对模型的影响\n",
    "        else:\n",
    "            return y"
   ],
   "metadata": {
    "collapsed": false,
    "pycharm": {
     "name": "#%%\n"
    }
   }
  },
  {
   "cell_type": "code",
   "execution_count": 3,
   "outputs": [],
   "source": [
    "class InteractionDataset(Dataset):\n",
    "    def __init__(self, mat,transform=None):\n",
    "        self.mat = mat\n",
    "        self.transform = transform\n",
    "\n",
    "    def __len__(self):\n",
    "        return self.mat.shape[0]\n",
    "\n",
    "    def __getitem__(self, idx):\n",
    "        x = self.mat[idx]\n",
    "        if self.transform:\n",
    "            x = self.transform(x)\n",
    "        return x"
   ],
   "metadata": {
    "collapsed": false,
    "pycharm": {
     "name": "#%%\n"
    }
   }
  },
  {
   "cell_type": "code",
   "execution_count": 4,
   "outputs": [
    {
     "name": "stderr",
     "output_type": "stream",
     "text": [
      "C:\\Users\\12548\\AppData\\Local\\Temp/ipykernel_24884/700341194.py:47: FutureWarning: In a future version of pandas all arguments of read_csv except for the argument 'filepath_or_buffer' will be keyword-only\n",
      "  data, num_users, num_items = read_data_ml100k()\n"
     ]
    }
   ],
   "source": [
    "def read_data_ml100k():\n",
    "    names = ['user_id', 'item_id', 'rating', 'timestamp']\n",
    "    data = pd.read_csv('../../data/ml-100k/u.data', '\\t', names=names,engine='python')\n",
    "    num_users = data.user_id.unique().shape[0]\n",
    "    num_items = data.item_id.unique().shape[0]\n",
    "    return data, num_users, num_items\n",
    "\n",
    "def split_data_ml100k(data, num_users, split_mode='random', test_ratio=0.1):\n",
    "    \"\"\"Split the dataset in random mode or seq-aware mode.\"\"\"\n",
    "    if split_mode == 'seq-aware':\n",
    "        train_items, test_items, train_list = {}, {}, []\n",
    "        for line in data.itertuples():\n",
    "            u, i, rating, time = line[1], line[2], line[3], line[4]\n",
    "            train_items.setdefault(u, []).append((u, i, rating, time)) # 如果键不在字典里，setdefault将键和默认值添加到字典中，最后返回该键对应的值。这里返回list，通过append将所有相同user的item放到同一个key对应的value里。\n",
    "            if u not in test_items or test_items[u][-1] < time: # 将最新的item放到test_items\n",
    "                test_items[u] = (i, rating, time)\n",
    "        for u in range(1, num_users + 1):\n",
    "            train_list.extend(sorted(train_items[u], key=lambda k: k[3])) # 将每个user对应的value 按照时间戳从小到大排序放到train_list\n",
    "        test_data = [(key, *value) for key, value in test_items.items()] # 将test_items变成list\n",
    "        train_data = [item for item in train_list if item not in test_data] #将train_list不在test_data里的元素放到train_data\n",
    "        train_data = pd.DataFrame(train_data)\n",
    "        test_data = pd.DataFrame(test_data)\n",
    "    else:\n",
    "        mask = np.random.uniform(0, 1, (len(data))) < 1 - test_ratio # 生成(len(data),)大小的bool类型数组 随机test_ratio比例的元素为False，其余为True\n",
    "        neg_mask = [not x for x in mask] # 生成len(data)长度的bool类型list 元素和mask相反\n",
    "        train_data, test_data = data[mask], data[neg_mask]\n",
    "    return train_data, test_data\n",
    "\n",
    "def load_data_ml100k(data, num_users, num_items, feedback='explicit'):\n",
    "    users, items, scores = [], [], []\n",
    "    inter = np.zeros((num_items, num_users)) if feedback == 'explicit' else {}\n",
    "    for line in data.itertuples():\n",
    "        user_index, item_index = int(line[1] - 1), int(line[2] - 1) #0~942 0~1681\n",
    "        score = int(line[3]) if feedback == 'explicit' else 1\n",
    "        users.append(user_index)\n",
    "        items.append(item_index)\n",
    "        scores.append(score)\n",
    "        if feedback == 'implicit':\n",
    "            inter.setdefault(user_index, []).append(item_index) # 隐式则为字典 key为user，value为按时间排序的item list\n",
    "        else:\n",
    "            inter[item_index, user_index] = score\n",
    "    return users, items, scores, inter\n",
    "\n",
    "\n",
    "def split_and_load_ml100k(split_mode='random', feedback='explicit',\n",
    "                          test_ratio=0.1, batch_size=256):\n",
    "    data, num_users, num_items = read_data_ml100k()\n",
    "    train_data, test_data = split_data_ml100k(\n",
    "        data, num_users, split_mode, test_ratio)\n",
    "    _, _, _, train_inter_mat = load_data_ml100k(train_data, num_users, num_items, feedback)\n",
    "    _, _, _, test_inter_mat = load_data_ml100k(test_data, num_users, num_items, feedback)\n",
    "    transform = Lambda(lambda x: torch.tensor(x,dtype=torch.float))\n",
    "    train_set = InteractionDataset(train_inter_mat,transform)\n",
    "    test_set = InteractionDataset(test_inter_mat,transform)\n",
    "    train_iter = DataLoader(train_set, shuffle=True, batch_size=batch_size)\n",
    "    test_iter = DataLoader(test_set, batch_size=batch_size)\n",
    "    return num_users, num_items, train_iter, test_iter\n",
    "\n",
    "num_users, num_items, train_iter, test_iter = split_and_load_ml100k()"
   ],
   "metadata": {
    "collapsed": false,
    "pycharm": {
     "name": "#%%\n"
    }
   }
  },
  {
   "cell_type": "code",
   "execution_count": 5,
   "outputs": [],
   "source": [
    "def evaluate_loss(data_iter, net,loss, device=None):\n",
    "    \"\"\"\n",
    "    输出y为某个值时\n",
    "    :param data_iter:\n",
    "    :param net:\n",
    "    :param device:\n",
    "    :return:\n",
    "    \"\"\"\n",
    "    with torch.no_grad():\n",
    "        for x in data_iter:\n",
    "            net.eval() # 评估模式, 这会关闭dropout\n",
    "            x = x.to(device)\n",
    "            y_hat = net(x)\n",
    "            l = loss(y_hat, x).cpu().item()\n",
    "            net.train() # 改回训练模式\n",
    "    return l\n",
    "def train(net, train_iter, test_iter, optimizer,loss, device, num_epochs,oneHotEncoder=None,scheduler = None):\n",
    "    net = net.to(device)\n",
    "    print(\"training on \", device)\n",
    "    plt_epoch = []\n",
    "    plt_train_loss = []\n",
    "    plt_test_loss = []\n",
    "    for epoch in range(num_epochs):\n",
    "        plt_epoch.append(epoch)\n",
    "        train_l_sum, train_acc_sum, n, batch_count, start = 0.0, 0.0, 0, 0, time.time()\n",
    "        for x in tqdm(train_iter):\n",
    "            x = x.to(device)\n",
    "            y_hat = net(x)\n",
    "            l = loss(y_hat, x)\n",
    "            optimizer.zero_grad()\n",
    "            l.backward()\n",
    "            # grad_clipping(net, 1)\n",
    "            optimizer.step()\n",
    "            train_l_sum += l.cpu().item()\n",
    "            n += x.shape[0] # batch_num\n",
    "            batch_count += 1\n",
    "        if scheduler:\n",
    "            scheduler.step()\n",
    "        test_loss = evaluate_loss(test_iter, net,loss,device)\n",
    "        plt_test_loss.append(test_loss)\n",
    "        plt_train_loss.append(train_l_sum / batch_count)\n",
    "        print('epoch %d, train_loss %.4f,train_loss %.4f, time %.1f sec'\n",
    "              % (epoch + 1, train_l_sum / batch_count,test_loss, time.time() - start))\n",
    "    plt.plot(plt_epoch, plt_train_loss, color='r', label='train')  # r表示红色\n",
    "    plt.plot(plt_epoch, plt_test_loss, color='b', label='test')  \n",
    "    plt.show()"
   ],
   "metadata": {
    "collapsed": false,
    "pycharm": {
     "name": "#%%\n"
    }
   }
  },
  {
   "cell_type": "code",
   "execution_count": 7,
   "outputs": [
    {
     "name": "stdout",
     "output_type": "stream",
     "text": [
      "training on  cuda\n"
     ]
    },
    {
     "name": "stderr",
     "output_type": "stream",
     "text": [
      "100%|██████████| 7/7 [00:00<00:00, 31.05it/s]\n"
     ]
    },
    {
     "name": "stdout",
     "output_type": "stream",
     "text": [
      "epoch 1, train_loss 0.4661,train_loss 0.0146, time 0.3 sec\n"
     ]
    },
    {
     "name": "stderr",
     "output_type": "stream",
     "text": [
      "100%|██████████| 7/7 [00:00<00:00, 125.29it/s]\n"
     ]
    },
    {
     "name": "stdout",
     "output_type": "stream",
     "text": [
      "epoch 2, train_loss 0.2868,train_loss 0.0145, time 0.1 sec\n"
     ]
    },
    {
     "name": "stderr",
     "output_type": "stream",
     "text": [
      "100%|██████████| 7/7 [00:00<00:00, 125.37it/s]\n"
     ]
    },
    {
     "name": "stdout",
     "output_type": "stream",
     "text": [
      "epoch 3, train_loss 0.2655,train_loss 0.0130, time 0.1 sec\n"
     ]
    },
    {
     "name": "stderr",
     "output_type": "stream",
     "text": [
      "100%|██████████| 7/7 [00:00<00:00, 127.46it/s]\n"
     ]
    },
    {
     "name": "stdout",
     "output_type": "stream",
     "text": [
      "epoch 4, train_loss 0.2611,train_loss 0.0128, time 0.1 sec\n"
     ]
    },
    {
     "name": "stderr",
     "output_type": "stream",
     "text": [
      "100%|██████████| 7/7 [00:00<00:00, 120.29it/s]\n"
     ]
    },
    {
     "name": "stdout",
     "output_type": "stream",
     "text": [
      "epoch 5, train_loss 0.2556,train_loss 0.0122, time 0.1 sec\n"
     ]
    },
    {
     "name": "stderr",
     "output_type": "stream",
     "text": [
      "100%|██████████| 7/7 [00:00<00:00, 127.42it/s]\n"
     ]
    },
    {
     "name": "stdout",
     "output_type": "stream",
     "text": [
      "epoch 6, train_loss 0.2526,train_loss 0.0121, time 0.1 sec\n"
     ]
    },
    {
     "name": "stderr",
     "output_type": "stream",
     "text": [
      "100%|██████████| 7/7 [00:00<00:00, 122.93it/s]\n"
     ]
    },
    {
     "name": "stdout",
     "output_type": "stream",
     "text": [
      "epoch 7, train_loss 0.2490,train_loss 0.0119, time 0.1 sec\n"
     ]
    },
    {
     "name": "stderr",
     "output_type": "stream",
     "text": [
      "100%|██████████| 7/7 [00:00<00:00, 120.90it/s]\n"
     ]
    },
    {
     "name": "stdout",
     "output_type": "stream",
     "text": [
      "epoch 8, train_loss 0.2434,train_loss 0.0121, time 0.1 sec\n"
     ]
    },
    {
     "name": "stderr",
     "output_type": "stream",
     "text": [
      "100%|██████████| 7/7 [00:00<00:00, 119.16it/s]"
     ]
    },
    {
     "name": "stdout",
     "output_type": "stream",
     "text": [
      "epoch 9, train_loss 0.2370,train_loss 0.0118, time 0.1 sec\n"
     ]
    },
    {
     "name": "stderr",
     "output_type": "stream",
     "text": [
      "\n",
      "100%|██████████| 7/7 [00:00<00:00, 116.01it/s]\n"
     ]
    },
    {
     "name": "stdout",
     "output_type": "stream",
     "text": [
      "epoch 10, train_loss 0.2307,train_loss 0.0123, time 0.1 sec\n"
     ]
    },
    {
     "name": "stderr",
     "output_type": "stream",
     "text": [
      "100%|██████████| 7/7 [00:00<00:00, 118.12it/s]\n"
     ]
    },
    {
     "name": "stdout",
     "output_type": "stream",
     "text": [
      "epoch 11, train_loss 0.2272,train_loss 0.0124, time 0.1 sec\n"
     ]
    },
    {
     "name": "stderr",
     "output_type": "stream",
     "text": [
      "100%|██████████| 7/7 [00:00<00:00, 99.67it/s]\n"
     ]
    },
    {
     "name": "stdout",
     "output_type": "stream",
     "text": [
      "epoch 12, train_loss 0.2244,train_loss 0.0126, time 0.1 sec\n"
     ]
    },
    {
     "name": "stderr",
     "output_type": "stream",
     "text": [
      "100%|██████████| 7/7 [00:00<00:00, 127.64it/s]"
     ]
    },
    {
     "name": "stdout",
     "output_type": "stream",
     "text": [
      "epoch 13, train_loss 0.2226,train_loss 0.0131, time 0.1 sec\n"
     ]
    },
    {
     "name": "stderr",
     "output_type": "stream",
     "text": [
      "\n",
      "100%|██████████| 7/7 [00:00<00:00, 125.01it/s]\n"
     ]
    },
    {
     "name": "stdout",
     "output_type": "stream",
     "text": [
      "epoch 14, train_loss 0.2211,train_loss 0.0127, time 0.1 sec\n"
     ]
    },
    {
     "name": "stderr",
     "output_type": "stream",
     "text": [
      "100%|██████████| 7/7 [00:00<00:00, 129.18it/s]\n"
     ]
    },
    {
     "name": "stdout",
     "output_type": "stream",
     "text": [
      "epoch 15, train_loss 0.2206,train_loss 0.0135, time 0.1 sec\n"
     ]
    },
    {
     "name": "stderr",
     "output_type": "stream",
     "text": [
      "100%|██████████| 7/7 [00:00<00:00, 116.48it/s]"
     ]
    },
    {
     "name": "stdout",
     "output_type": "stream",
     "text": [
      "epoch 16, train_loss 0.2193,train_loss 0.0135, time 0.1 sec\n"
     ]
    },
    {
     "name": "stderr",
     "output_type": "stream",
     "text": [
      "\n",
      "100%|██████████| 7/7 [00:00<00:00, 131.07it/s]\n"
     ]
    },
    {
     "name": "stdout",
     "output_type": "stream",
     "text": [
      "epoch 17, train_loss 0.2197,train_loss 0.0135, time 0.1 sec\n"
     ]
    },
    {
     "name": "stderr",
     "output_type": "stream",
     "text": [
      "100%|██████████| 7/7 [00:00<00:00, 127.05it/s]\n"
     ]
    },
    {
     "name": "stdout",
     "output_type": "stream",
     "text": [
      "epoch 18, train_loss 0.2201,train_loss 0.0131, time 0.1 sec\n"
     ]
    },
    {
     "name": "stderr",
     "output_type": "stream",
     "text": [
      "100%|██████████| 7/7 [00:00<00:00, 118.64it/s]\n"
     ]
    },
    {
     "name": "stdout",
     "output_type": "stream",
     "text": [
      "epoch 19, train_loss 0.2173,train_loss 0.0131, time 0.1 sec\n"
     ]
    },
    {
     "name": "stderr",
     "output_type": "stream",
     "text": [
      "100%|██████████| 7/7 [00:00<00:00, 119.55it/s]\n"
     ]
    },
    {
     "name": "stdout",
     "output_type": "stream",
     "text": [
      "epoch 20, train_loss 0.2168,train_loss 0.0127, time 0.1 sec\n"
     ]
    },
    {
     "data": {
      "text/plain": "<Figure size 432x288 with 1 Axes>",
      "image/png": "[encoded data removed]"
     },
     "metadata": {
      "needs_background": "light"
     },
     "output_type": "display_data"
    },
    {
     "data": {
      "text/plain": "'\\n测试1：\\nepoch 1, train_loss 0.5147,train_loss 0.0131, time 1.8 sec\\nepoch 2, train_loss 0.3148,train_loss 0.0169, time 0.1 sec\\nepoch 20, train_loss 0.1679,train_loss 0.0110, time 0.1 sec\\n参数：num_hidden=500\\n结构：\\nself.encoder = nn.Sequential(\\n            nn.Linear(num_users,num_hidden),\\n            nn.Sigmoid()\\n        )\\n        self.decoder = nn.Linear(num_hidden,num_users)\\n        self.dropout = nn.Dropout(dropout)\\n        self.mode = mode\\n\\n测试2：\\nepoch 1, train_loss 0.4730,train_loss 0.0178, time 2.2 sec\\nepoch 2, train_loss 0.2741,train_loss 0.0165, time 0.1 sec\\nepoch 20, train_loss 0.1423,train_loss 0.0144, time 0.1 sec\\n参数：num_hidden=1000\\n结构：\\n同测试1\\n\\n测试3：\\nepoch 1, train_loss 0.6960,train_loss 0.0304, time 0.1 sec\\nepoch 2, train_loss 0.3120,train_loss 0.0203, time 0.1 sec\\nepoch 20, train_loss 0.2035,train_loss 0.0181, time 0.1 sec\\n参数：num_hidden=200\\n结构：\\n同测试1\\n'"
     },
     "execution_count": 7,
     "metadata": {},
     "output_type": "execute_result"
    }
   ],
   "source": [
    "def RMSELoss(yhat,y):\n",
    "    return torch.sqrt(torch.mean((yhat-y)**2))\n",
    "loss = RMSELoss\n",
    "net = AutoRec(500,num_users)\n",
    "optimizer = torch.optim.Adam(net.parameters(), lr=0.002)\n",
    "device = torch.device('cuda' if torch.cuda.is_available() else 'cpu')\n",
    "num_epoch = 20\n",
    "train(net,train_iter,test_iter,optimizer,loss,device,num_epoch)\n",
    "\"\"\"\n",
    "测试1：\n",
    "epoch 1, train_loss 0.5147,train_loss 0.0131, time 1.8 sec\n",
    "epoch 2, train_loss 0.3148,train_loss 0.0169, time 0.1 sec\n",
    "epoch 20, train_loss 0.1679,train_loss 0.0110, time 0.1 sec\n",
    "参数：num_hidden=500\n",
    "结构：\n",
    "self.encoder = nn.Sequential(\n",
    "            nn.Linear(num_users,num_hidden),\n",
    "            nn.Sigmoid()\n",
    "        )\n",
    "        self.decoder = nn.Linear(num_hidden,num_users)\n",
    "        self.dropout = nn.Dropout(dropout)\n",
    "        self.mode = mode\n",
    "\n",
    "测试2：\n",
    "epoch 1, train_loss 0.4730,train_loss 0.0178, time 2.2 sec\n",
    "epoch 2, train_loss 0.2741,train_loss 0.0165, time 0.1 sec\n",
    "epoch 20, train_loss 0.1423,train_loss 0.0144, time 0.1 sec\n",
    "参数：num_hidden=1000\n",
    "结构：\n",
    "同测试1\n",
    "\n",
    "测试3：\n",
    "epoch 1, train_loss 0.6960,train_loss 0.0304, time 0.1 sec\n",
    "epoch 2, train_loss 0.3120,train_loss 0.0203, time 0.1 sec\n",
    "epoch 20, train_loss 0.2035,train_loss 0.0181, time 0.1 sec\n",
    "参数：num_hidden=200\n",
    "结构：\n",
    "同测试1\n",
    "\"\"\""
   ],
   "metadata": {
    "collapsed": false,
    "pycharm": {
     "name": "#%%\n"
    }
   }
  },
  {
   "cell_type": "code",
   "execution_count": 6,
   "outputs": [],
   "source": [],
   "metadata": {
    "collapsed": false,
    "pycharm": {
     "name": "#%%\n"
    }
   }
  }
 ],
 "metadata": {
  "kernelspec": {
   "name": "pycharm-ff83aeb4",
   "language": "python",
   "display_name": "PyCharm (MLWorkspace)"
  },
  "language_info": {
   "codemirror_mode": {
    "name": "ipython",
    "version": 2
   },
   "file_extension": ".py",
   "mimetype": "text/x-python",
   "name": "python",
   "nbconvert_exporter": "python",
   "pygments_lexer": "ipython2",
   "version": "2.7.6"
  }
 },
 "nbformat": 4,
 "nbformat_minor": 0
}