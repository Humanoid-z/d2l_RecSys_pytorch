{
 "cells": [
  {
   "cell_type": "code",
   "execution_count": 1,
   "metadata": {
    "collapsed": true
   },
   "outputs": [],
   "source": [
    "import math\n",
    "import numpy as np\n",
    "import pandas as pd\n",
    "from collections import defaultdict\n",
    "from matplotlib import pyplot as plt\n",
    "import torch\n",
    "from torchvision.transforms import Lambda\n",
    "from torch.utils.data import Dataset, DataLoader\n",
    "from torch import nn\n",
    "from tqdm import tqdm\n",
    "import time\n",
    "import os"
   ]
  },
  {
   "cell_type": "code",
   "execution_count": 2,
   "outputs": [],
   "source": [
    "class DeepFM(nn.Module):\n",
    "    def __init__(self, field_dims, num_factors, mlp_dims, drop_rate=0.1):\n",
    "        super(DeepFM, self).__init__()\n",
    "        num_inputs = int(sum(field_dims))\n",
    "        self.embedding = nn.Embedding(num_inputs, num_factors)\n",
    "        self.fc = nn.Embedding(num_inputs, 1)\n",
    "        self.linear_layer = nn.Linear(len(field_dims),1, bias=True)\n",
    "        self.mlp = nn.Sequential()\n",
    "        pre_input_dim = self.embed_output_dim =len(field_dims)*num_factors\n",
    "        for i in range(len(mlp_dims)):\n",
    "            self.mlp.add_module('mlp'+str(i),nn.Sequential(\n",
    "                nn.Linear(pre_input_dim,mlp_dims[i]),\n",
    "                nn.ReLU(),\n",
    "                nn.Dropout(p=drop_rate)\n",
    "            ))\n",
    "            pre_input_dim = mlp_dims[i]\n",
    "\n",
    "        self.mlp.add_module('mlp'+str(len(mlp_dims)),nn.Linear(pre_input_dim,1))\n",
    "\n",
    "    def forward(self, x):\n",
    "        embed_x = self.embedding(x)\n",
    "        square_of_sum = torch.sum(embed_x, dim=2) ** 2\n",
    "        sum_of_square = torch.sum(embed_x ** 2, dim=2)\n",
    "        inputs = torch.reshape(embed_x, (-1, self.embed_output_dim)) # 展平\n",
    "        x = self.linear_layer(self.fc(x).sum(2)) \\\n",
    "            + 0.5 * (square_of_sum - sum_of_square).sum(1, keepdims=True) \\\n",
    "            + self.mlp(inputs)\n",
    "        x = torch.sigmoid_(x)\n",
    "        return x"
   ],
   "metadata": {
    "collapsed": false,
    "pycharm": {
     "name": "#%%\n"
    }
   }
  },
  {
   "cell_type": "code",
   "execution_count": 3,
   "outputs": [],
   "source": [
    "class CTRDataset(Dataset):\n",
    "    def __init__(self, data_path, feat_mapper=None, defaults=None,\n",
    "                 min_threshold=4, num_feat=34,transform = None):\n",
    "        self.NUM_FEATS, self.count, self.data = num_feat, 0, {}\n",
    "        feat_cnts = defaultdict(lambda: defaultdict(int)) #记录第i个特征有几种embedding，每个embedding出现次数\n",
    "        self.feat_mapper, self.defaults = feat_mapper, defaults\n",
    "        self.field_dims = np.zeros(self.NUM_FEATS, dtype=np.int64)\n",
    "        self.transform = transform\n",
    "        with open(data_path) as f:\n",
    "            for line in f:\n",
    "                instance = {}\n",
    "                values = line.rstrip('\\n').split('\\t')\n",
    "                if len(values) != self.NUM_FEATS + 1:\n",
    "                    continue\n",
    "                label = np.float32([0, 0])\n",
    "                label[int(values[0])] = 1\n",
    "                instance['y'] = [np.float32(values[0])]\n",
    "                for i in range(1, self.NUM_FEATS + 1):\n",
    "                    feat_cnts[i][values[i]] += 1 #第i种feature的一种embedding的计数+1\n",
    "                    instance.setdefault('x', []).append(values[i])\n",
    "                self.data[self.count] = instance #{'y': [1.0], 'x': ['11417225884335159926',...,'631302449310544']}\n",
    "                self.count = self.count + 1\n",
    "\n",
    "        if self.feat_mapper is None and self.defaults is None:\n",
    "            feat_mapper = {i: {feat for feat, c in cnt.items() if c >= min_threshold} for i, cnt in feat_cnts.items()}\n",
    "            # 对feat_cnts的34种feature的每个embedding保存在feat_mapper，前提是其出现次数不小于min_threshold\n",
    "            self.feat_mapper = {i: {feat_v: idx for idx, feat_v in enumerate(feat_values)}\n",
    "                                for i, feat_values in feat_mapper.items()}\n",
    "            # self.feat_mapper{key:1~34 ;value:DICT}，DICT{key:第i种feature的某个embedding；value:其在feat_mapper的第i个dict内的index 范围：[0,len(feat_mapper[i])]}\n",
    "            self.defaults = {i: len(feat_values) for i, feat_values in feat_mapper.items()}\n",
    "            #记录第i种feature有多少种embedding\n",
    "        for i, fm in self.feat_mapper.items():\n",
    "            self.field_dims[i - 1] = len(fm) +1 #留出空间给默认值\n",
    "        self.offsets = np.array((0, *np.cumsum(self.field_dims)[:-1]))\n",
    "        # 偏置 使每个embedding有不同的代码 offsets[i]==len(self.feat_mapper[i-1])+1\n",
    "        # 第i个feature:[offsets[i],offsets[i]+len(self.feat_mapper[i])-1]\n",
    "        # 第i-1个feature不存在的embedding:offsets[i-1]+len(self.feat_mapper[i-1])==offsets[i]-1\n",
    "    def __len__(self):\n",
    "        return self.count\n",
    "\n",
    "    def __getitem__(self, idx):\n",
    "        feat = np.array([self.feat_mapper[i + 1].get(v, self.defaults[i + 1]) #如果不存在则返回self.defaults[i + 1]\n",
    "                         for i, v in enumerate(self.data[idx]['x'])])\n",
    "        X = feat + self.offsets\n",
    "        Y = self.data[idx]['y']\n",
    "        if self.transform != None:\n",
    "            X = self.transform(X)\n",
    "            Y = self.transform(Y)\n",
    "        return X,Y"
   ],
   "metadata": {
    "collapsed": false,
    "pycharm": {
     "name": "#%%\n"
    }
   }
  },
  {
   "cell_type": "code",
   "execution_count": 4,
   "outputs": [],
   "source": [
    "batch_size = 2048\n",
    "data_dir = '../../data/ctr'\n",
    "transform = Lambda(lambda x: torch.tensor(x))\n",
    "train_data = CTRDataset(os.path.join(data_dir, 'train.csv'),transform=transform)\n",
    "test_data = CTRDataset(os.path.join(data_dir, 'test.csv'),\n",
    "                           feat_mapper=train_data.feat_mapper,\n",
    "                           defaults=train_data.defaults,transform=transform)\n",
    "train_iter = DataLoader(\n",
    "    train_data, shuffle=True, batch_size=batch_size)\n",
    "test_iter = DataLoader(\n",
    "    test_data, shuffle=False,  batch_size=batch_size)\n",
    "\n",
    "\n",
    "net = DeepFM(train_data.field_dims,20,mlp_dims=[30, 20, 10])\n",
    "\n",
    "# print(net(torch.tensor(train_data.__getitem__(0)[0])))\n",
    "optimizer = torch.optim.Adam(net.parameters(), lr=0.05)\n",
    "loss = nn.BCELoss()\n",
    "num_epochs = 30\n",
    "device = torch.device('cuda' if torch.cuda.is_available() else 'cpu')\n",
    "scheduler = torch.optim.lr_scheduler.LambdaLR(optimizer, lr_lambda=lambda epoch: 1/(epoch+1))"
   ],
   "metadata": {
    "collapsed": false,
    "pycharm": {
     "name": "#%%\n"
    }
   }
  },
  {
   "cell_type": "code",
   "execution_count": 5,
   "outputs": [],
   "source": [
    "def evaluate_accuracy(data_iter, net, device=None):\n",
    "    \"\"\"\n",
    "    输出y为某个值时\n",
    "    :param data_iter:\n",
    "    :param net:\n",
    "    :param device:\n",
    "    :return:\n",
    "    \"\"\"\n",
    "    if device is None and isinstance(net, torch.nn.Module):\n",
    "        # 如果没指定device就使用net的device\n",
    "        device = list(net.parameters())[0].device\n",
    "    acc_sum, n = 0.0, 0\n",
    "    with torch.no_grad():\n",
    "        for X, y in data_iter:\n",
    "            net.eval() # 评估模式, 这会关闭dropout\n",
    "            acc_sum += (net(X.to(device)) == y.to(device)).sum().cpu().item()\n",
    "            net.train() # 改回训练模式\n",
    "            n += y.shape[0]\n",
    "    return acc_sum / n\n",
    "\n",
    "def train(net, train_iter, test_iter, optimizer,loss, device, num_epochs,oneHotEncoder=None,scheduler = None):\n",
    "    net = net.to(device)\n",
    "    print(\"training on \", device)\n",
    "    plt_epoch = []\n",
    "    plt_train_acc = []\n",
    "    plt_test_acc = []\n",
    "    for epoch in range(num_epochs):\n",
    "        plt_epoch.append(epoch)\n",
    "        train_l_sum, train_acc_sum, n, batch_count, start = 0.0, 0.0, 0, 0, time.time()\n",
    "        for X, y in tqdm(train_iter):\n",
    "            X = X.to(device)\n",
    "            y_oneHot = y\n",
    "            if oneHotEncoder:\n",
    "                y_oneHot = torch.tensor(oneHotEncoder.transform(y).toarray())\n",
    "            y = y.to(device)\n",
    "            y_oneHot = y_oneHot.to(device)\n",
    "            y_hat = net(X)\n",
    "            l = loss(y_hat, y_oneHot)\n",
    "            optimizer.zero_grad()\n",
    "            l.backward()\n",
    "            # grad_clipping(net, 1)\n",
    "            optimizer.step()\n",
    "            train_l_sum += l.cpu().item()\n",
    "            train_acc_sum += (y_hat == y).sum().cpu().item()\n",
    "            # print((y_hat == y).sum().cpu().item(),y.shape[0])\n",
    "            n += y.shape[0] # batch_num\n",
    "            batch_count += 1\n",
    "            # print('train_acc_sum:',train_acc_sum,'n',n)\n",
    "        if scheduler:\n",
    "            scheduler.step()\n",
    "        test_acc = evaluate_accuracy(test_iter, net)\n",
    "        print('epoch %d, loss %.4f, train acc %.3f, test acc %.3f, time %.1f sec'\n",
    "              % (epoch + 1, train_l_sum / batch_count, train_acc_sum / n, test_acc, time.time() - start))\n",
    "        plt_train_acc.append(train_acc_sum / n)\n",
    "        plt_test_acc.append(test_acc)\n",
    "    plt.plot(plt_epoch, plt_train_acc, color='r', label='train')  # r表示红色\n",
    "    plt.plot(plt_epoch, plt_test_acc, color='b', label='test')  # 也可以用RGB值表示颜色\n",
    "    plt.show()"
   ],
   "metadata": {
    "collapsed": false,
    "pycharm": {
     "name": "#%%\n"
    }
   }
  },
  {
   "cell_type": "code",
   "execution_count": 6,
   "outputs": [
    {
     "name": "stdout",
     "output_type": "stream",
     "text": [
      "training on  cuda\n"
     ]
    },
    {
     "name": "stderr",
     "output_type": "stream",
     "text": [
      "100%|██████████| 8/8 [00:16<00:00,  2.12s/it]\n"
     ]
    },
    {
     "name": "stdout",
     "output_type": "stream",
     "text": [
      "epoch 1, loss 31.2106, train acc 0.393, test acc 0.433, time 17.3 sec\n"
     ]
    },
    {
     "name": "stderr",
     "output_type": "stream",
     "text": [
      "100%|██████████| 8/8 [00:00<00:00,  9.67it/s]\n"
     ]
    },
    {
     "name": "stdout",
     "output_type": "stream",
     "text": [
      "epoch 2, loss 13.4808, train acc 0.470, test acc 0.494, time 0.9 sec\n"
     ]
    },
    {
     "name": "stderr",
     "output_type": "stream",
     "text": [
      "100%|██████████| 8/8 [00:00<00:00,  9.47it/s]\n"
     ]
    },
    {
     "name": "stdout",
     "output_type": "stream",
     "text": [
      "epoch 3, loss 7.4893, train acc 0.514, test acc 0.496, time 1.0 sec\n"
     ]
    },
    {
     "name": "stderr",
     "output_type": "stream",
     "text": [
      "100%|██████████| 8/8 [00:00<00:00, 10.06it/s]\n"
     ]
    },
    {
     "name": "stdout",
     "output_type": "stream",
     "text": [
      "epoch 4, loss 5.6015, train acc 0.528, test acc 0.531, time 0.9 sec\n"
     ]
    },
    {
     "name": "stderr",
     "output_type": "stream",
     "text": [
      "100%|██████████| 8/8 [00:00<00:00, 10.03it/s]\n"
     ]
    },
    {
     "name": "stdout",
     "output_type": "stream",
     "text": [
      "epoch 5, loss 4.6572, train acc 0.536, test acc 0.533, time 0.9 sec\n"
     ]
    },
    {
     "name": "stderr",
     "output_type": "stream",
     "text": [
      "100%|██████████| 8/8 [00:00<00:00,  9.10it/s]\n"
     ]
    },
    {
     "name": "stdout",
     "output_type": "stream",
     "text": [
      "epoch 6, loss 3.7819, train acc 0.550, test acc 0.528, time 1.0 sec\n"
     ]
    },
    {
     "name": "stderr",
     "output_type": "stream",
     "text": [
      "100%|██████████| 8/8 [00:00<00:00,  9.95it/s]\n"
     ]
    },
    {
     "name": "stdout",
     "output_type": "stream",
     "text": [
      "epoch 7, loss 3.3210, train acc 0.550, test acc 0.545, time 0.9 sec\n"
     ]
    },
    {
     "name": "stderr",
     "output_type": "stream",
     "text": [
      "100%|██████████| 8/8 [00:00<00:00, 10.01it/s]\n"
     ]
    },
    {
     "name": "stdout",
     "output_type": "stream",
     "text": [
      "epoch 8, loss 2.9892, train acc 0.553, test acc 0.537, time 0.9 sec\n"
     ]
    },
    {
     "name": "stderr",
     "output_type": "stream",
     "text": [
      "100%|██████████| 8/8 [00:00<00:00, 10.99it/s]\n"
     ]
    },
    {
     "name": "stdout",
     "output_type": "stream",
     "text": [
      "epoch 9, loss 2.7155, train acc 0.559, test acc 0.536, time 0.8 sec\n"
     ]
    },
    {
     "name": "stderr",
     "output_type": "stream",
     "text": [
      "100%|██████████| 8/8 [00:00<00:00,  9.89it/s]\n"
     ]
    },
    {
     "name": "stdout",
     "output_type": "stream",
     "text": [
      "epoch 10, loss 2.6138, train acc 0.554, test acc 0.542, time 1.0 sec\n"
     ]
    },
    {
     "name": "stderr",
     "output_type": "stream",
     "text": [
      "100%|██████████| 8/8 [00:00<00:00, 10.55it/s]\n"
     ]
    },
    {
     "name": "stdout",
     "output_type": "stream",
     "text": [
      "epoch 11, loss 2.5683, train acc 0.558, test acc 0.533, time 0.9 sec\n"
     ]
    },
    {
     "name": "stderr",
     "output_type": "stream",
     "text": [
      "100%|██████████| 8/8 [00:00<00:00, 10.71it/s]\n"
     ]
    },
    {
     "name": "stdout",
     "output_type": "stream",
     "text": [
      "epoch 12, loss 2.3192, train acc 0.554, test acc 0.543, time 0.9 sec\n"
     ]
    },
    {
     "name": "stderr",
     "output_type": "stream",
     "text": [
      "100%|██████████| 8/8 [00:00<00:00, 10.82it/s]\n"
     ]
    },
    {
     "name": "stdout",
     "output_type": "stream",
     "text": [
      "epoch 13, loss 2.2328, train acc 0.555, test acc 0.538, time 0.9 sec\n"
     ]
    },
    {
     "name": "stderr",
     "output_type": "stream",
     "text": [
      "100%|██████████| 8/8 [00:00<00:00, 10.15it/s]\n"
     ]
    },
    {
     "name": "stdout",
     "output_type": "stream",
     "text": [
      "epoch 14, loss 2.2223, train acc 0.556, test acc 0.539, time 0.9 sec\n"
     ]
    },
    {
     "name": "stderr",
     "output_type": "stream",
     "text": [
      "100%|██████████| 8/8 [00:00<00:00, 11.20it/s]\n"
     ]
    },
    {
     "name": "stdout",
     "output_type": "stream",
     "text": [
      "epoch 15, loss 2.1005, train acc 0.554, test acc 0.539, time 0.8 sec\n"
     ]
    },
    {
     "name": "stderr",
     "output_type": "stream",
     "text": [
      "100%|██████████| 8/8 [00:00<00:00,  9.81it/s]\n"
     ]
    },
    {
     "name": "stdout",
     "output_type": "stream",
     "text": [
      "epoch 16, loss 2.0697, train acc 0.555, test acc 0.539, time 0.9 sec\n"
     ]
    },
    {
     "name": "stderr",
     "output_type": "stream",
     "text": [
      "100%|██████████| 8/8 [00:00<00:00, 10.57it/s]\n"
     ]
    },
    {
     "name": "stdout",
     "output_type": "stream",
     "text": [
      "epoch 17, loss 2.0491, train acc 0.557, test acc 0.539, time 0.9 sec\n"
     ]
    },
    {
     "name": "stderr",
     "output_type": "stream",
     "text": [
      "100%|██████████| 8/8 [00:00<00:00,  9.64it/s]\n"
     ]
    },
    {
     "name": "stdout",
     "output_type": "stream",
     "text": [
      "epoch 18, loss 2.0011, train acc 0.554, test acc 0.541, time 1.0 sec\n"
     ]
    },
    {
     "name": "stderr",
     "output_type": "stream",
     "text": [
      "100%|██████████| 8/8 [00:00<00:00, 10.33it/s]\n"
     ]
    },
    {
     "name": "stdout",
     "output_type": "stream",
     "text": [
      "epoch 19, loss 1.9440, train acc 0.555, test acc 0.539, time 0.9 sec\n"
     ]
    },
    {
     "name": "stderr",
     "output_type": "stream",
     "text": [
      "100%|██████████| 8/8 [00:00<00:00, 10.46it/s]\n"
     ]
    },
    {
     "name": "stdout",
     "output_type": "stream",
     "text": [
      "epoch 20, loss 1.9356, train acc 0.554, test acc 0.541, time 0.9 sec\n"
     ]
    },
    {
     "name": "stderr",
     "output_type": "stream",
     "text": [
      "100%|██████████| 8/8 [00:00<00:00, 11.15it/s]\n"
     ]
    },
    {
     "name": "stdout",
     "output_type": "stream",
     "text": [
      "epoch 21, loss 1.9059, train acc 0.554, test acc 0.539, time 0.8 sec\n"
     ]
    },
    {
     "name": "stderr",
     "output_type": "stream",
     "text": [
      "100%|██████████| 8/8 [00:00<00:00,  9.93it/s]\n"
     ]
    },
    {
     "name": "stdout",
     "output_type": "stream",
     "text": [
      "epoch 22, loss 1.8191, train acc 0.554, test acc 0.539, time 0.9 sec\n"
     ]
    },
    {
     "name": "stderr",
     "output_type": "stream",
     "text": [
      "100%|██████████| 8/8 [00:00<00:00, 10.10it/s]\n"
     ]
    },
    {
     "name": "stdout",
     "output_type": "stream",
     "text": [
      "epoch 23, loss 1.8573, train acc 0.556, test acc 0.537, time 0.9 sec\n"
     ]
    },
    {
     "name": "stderr",
     "output_type": "stream",
     "text": [
      "100%|██████████| 8/8 [00:00<00:00, 11.11it/s]\n"
     ]
    },
    {
     "name": "stdout",
     "output_type": "stream",
     "text": [
      "epoch 24, loss 1.8238, train acc 0.554, test acc 0.540, time 0.8 sec\n"
     ]
    },
    {
     "name": "stderr",
     "output_type": "stream",
     "text": [
      "100%|██████████| 8/8 [00:00<00:00,  9.60it/s]\n"
     ]
    },
    {
     "name": "stdout",
     "output_type": "stream",
     "text": [
      "epoch 25, loss 1.8051, train acc 0.555, test acc 0.538, time 1.0 sec\n"
     ]
    },
    {
     "name": "stderr",
     "output_type": "stream",
     "text": [
      "100%|██████████| 8/8 [00:00<00:00,  9.51it/s]\n"
     ]
    },
    {
     "name": "stdout",
     "output_type": "stream",
     "text": [
      "epoch 26, loss 1.8213, train acc 0.554, test acc 0.540, time 1.0 sec\n"
     ]
    },
    {
     "name": "stderr",
     "output_type": "stream",
     "text": [
      "100%|██████████| 8/8 [00:00<00:00,  9.86it/s]\n"
     ]
    },
    {
     "name": "stdout",
     "output_type": "stream",
     "text": [
      "epoch 27, loss 1.7483, train acc 0.554, test acc 0.538, time 0.9 sec\n"
     ]
    },
    {
     "name": "stderr",
     "output_type": "stream",
     "text": [
      "100%|██████████| 8/8 [00:00<00:00,  9.33it/s]\n"
     ]
    },
    {
     "name": "stdout",
     "output_type": "stream",
     "text": [
      "epoch 28, loss 1.7907, train acc 0.554, test acc 0.538, time 1.0 sec\n"
     ]
    },
    {
     "name": "stderr",
     "output_type": "stream",
     "text": [
      "100%|██████████| 8/8 [00:00<00:00, 10.32it/s]\n"
     ]
    },
    {
     "name": "stdout",
     "output_type": "stream",
     "text": [
      "epoch 29, loss 1.7946, train acc 0.554, test acc 0.538, time 0.9 sec\n"
     ]
    },
    {
     "name": "stderr",
     "output_type": "stream",
     "text": [
      "100%|██████████| 8/8 [00:00<00:00,  8.46it/s]\n"
     ]
    },
    {
     "name": "stdout",
     "output_type": "stream",
     "text": [
      "epoch 30, loss 1.7647, train acc 0.553, test acc 0.539, time 1.1 sec\n"
     ]
    },
    {
     "data": {
      "text/plain": "<Figure size 432x288 with 1 Axes>",
      "image/png": "[encoded data removed]"
     },
     "metadata": {
      "needs_background": "light"
     },
     "output_type": "display_data"
    }
   ],
   "source": [
    "train(net, train_iter, test_iter, optimizer,loss, device, num_epochs,scheduler=scheduler)"
   ],
   "metadata": {
    "collapsed": false,
    "pycharm": {
     "name": "#%%\n"
    }
   }
  }
 ],
 "metadata": {
  "kernelspec": {
   "display_name": "Python 3",
   "language": "python",
   "name": "python3"
  },
  "language_info": {
   "codemirror_mode": {
    "name": "ipython",
    "version": 2
   },
   "file_extension": ".py",
   "mimetype": "text/x-python",
   "name": "python",
   "nbconvert_exporter": "python",
   "pygments_lexer": "ipython2",
   "version": "2.7.6"
  }
 },
 "nbformat": 4,
 "nbformat_minor": 0
}